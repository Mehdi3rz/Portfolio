{
 "cells": [
  {
   "cell_type": "markdown",
   "id": "b31c9def-27f8-41d1-b617-7ac259d43e8d",
   "metadata": {},
   "source": [
    "# Import Libraries"
   ]
  },
  {
   "cell_type": "code",
   "execution_count": 15,
   "id": "eee3337d-1c12-4552-a0a8-78ef23c37825",
   "metadata": {},
   "outputs": [],
   "source": [
    "from ucimlrepo import fetch_ucirepo\n",
    "import pandas as pd\n",
    "import numpy as np\n",
    "from sklearn.decomposition import PCA\n",
    "import matplotlib.pyplot as plt\n",
    "from sklearn.discriminant_analysis import LinearDiscriminantAnalysis as LDA\n",
    "from sklearn.cluster import KMeans\n",
    "from sklearn.metrics import silhouette_score\n",
    "from scipy.cluster.hierarchy import dendrogram, linkage\n",
    "from sklearn.cluster import AgglomerativeClustering"
   ]
  },
  {
   "cell_type": "markdown",
   "id": "fa542243-704b-42b5-8bfc-caa06ae0e0ac",
   "metadata": {},
   "source": [
    "#### Importing Data"
   ]
  },
  {
   "cell_type": "code",
   "execution_count": 16,
   "id": "84d22137-a432-4c91-9ed6-fe50eaa19514",
   "metadata": {},
   "outputs": [],
   "source": [
    "ionosphere = fetch_ucirepo(id=52)\n",
    "X = ionosphere.data.features\n",
    "y = ionosphere.data.targets"
   ]
  },
  {
   "cell_type": "code",
   "execution_count": 17,
   "id": "5f5cd382-3a08-423e-aa30-5c5bb4481ab1",
   "metadata": {},
   "outputs": [
    {
     "name": "stdout",
     "output_type": "stream",
     "text": [
      "         name     role        type demographic description units  \\\n",
      "0  Attribute1  Feature  Continuous        None        None  None   \n",
      "1  Attribute2  Feature  Continuous        None        None  None   \n",
      "2  Attribute3  Feature  Continuous        None        None  None   \n",
      "3  Attribute4  Feature  Continuous        None        None  None   \n",
      "4  Attribute5  Feature  Continuous        None        None  None   \n",
      "\n",
      "  missing_values  \n",
      "0             no  \n",
      "1             no  \n",
      "2             no  \n",
      "3             no  \n",
      "4             no  \n",
      "   Attribute1  Attribute2  Attribute3  Attribute4  Attribute5  Attribute6  \\\n",
      "0           1           0     0.99539    -0.05889     0.85243     0.02306   \n",
      "1           1           0     1.00000    -0.18829     0.93035    -0.36156   \n",
      "2           1           0     1.00000    -0.03365     1.00000     0.00485   \n",
      "3           1           0     1.00000    -0.45161     1.00000     1.00000   \n",
      "4           1           0     1.00000    -0.02401     0.94140     0.06531   \n",
      "\n",
      "   Attribute7  Attribute8  Attribute9  Attribute10  ...  Attribute25  \\\n",
      "0     0.83398    -0.37708     1.00000      0.03760  ...      0.56811   \n",
      "1    -0.10868    -0.93597     1.00000     -0.04549  ...     -0.20332   \n",
      "2     1.00000    -0.12062     0.88965      0.01198  ...      0.57528   \n",
      "3     0.71216    -1.00000     0.00000      0.00000  ...      1.00000   \n",
      "4     0.92106    -0.23255     0.77152     -0.16399  ...      0.03286   \n",
      "\n",
      "   Attribute26  Attribute27  Attribute28  Attribute29  Attribute30  \\\n",
      "0     -0.51171      0.41078     -0.46168      0.21266     -0.34090   \n",
      "1     -0.26569     -0.20468     -0.18401     -0.19040     -0.11593   \n",
      "2     -0.40220      0.58984     -0.22145      0.43100     -0.17365   \n",
      "3      0.90695      0.51613      1.00000      1.00000     -0.20099   \n",
      "4     -0.65158      0.13290     -0.53206      0.02431     -0.62197   \n",
      "\n",
      "   Attribute31  Attribute32  Attribute33  Attribute34  \n",
      "0      0.42267     -0.54487      0.18641     -0.45300  \n",
      "1     -0.16626     -0.06288     -0.13738     -0.02447  \n",
      "2      0.60436     -0.24180      0.56045     -0.38238  \n",
      "3      0.25682      1.00000     -0.32382      1.00000  \n",
      "4     -0.05707     -0.59573     -0.04608     -0.65697  \n",
      "\n",
      "[5 rows x 34 columns]\n",
      "Class\n",
      "g        225\n",
      "b        126\n",
      "Name: count, dtype: int64\n"
     ]
    }
   ],
   "source": [
    "print(ionosphere.variables.head())\n",
    "print(X.head())\n",
    "print(y.value_counts())"
   ]
  },
  {
   "cell_type": "markdown",
   "id": "e9795a3b-90f0-4f3d-9d3a-47cb3011c574",
   "metadata": {},
   "source": [
    "#### Data is Normalized and it has No missing values and Outliers"
   ]
  },
  {
   "cell_type": "markdown",
   "id": "c811c56e-3abc-4944-bebe-d4b6ff386b7e",
   "metadata": {},
   "source": [
    "# PCA"
   ]
  },
  {
   "cell_type": "code",
   "execution_count": 18,
   "id": "8ff46d10-be09-4cb4-87df-d331fb230756",
   "metadata": {},
   "outputs": [],
   "source": [
    "# PCA for All Components\n",
    "pca = PCA(n_components=len(X.columns))\n",
    "X_pca = pca.fit_transform(X)"
   ]
  },
  {
   "cell_type": "markdown",
   "id": "64f07d24-5bf7-4356-85c1-26b985736aeb",
   "metadata": {},
   "source": [
    "#### Explained Variance by each Component and Cumulative Variance"
   ]
  },
  {
   "cell_type": "code",
   "execution_count": 19,
   "id": "8584ed17-1001-4b21-b184-e39df7a2300f",
   "metadata": {},
   "outputs": [
    {
     "name": "stdout",
     "output_type": "stream",
     "text": [
      "Component 1: 0.3134\n",
      "Component 2: 0.1227\n",
      "Component 3: 0.0748\n",
      "Component 4: 0.0694\n",
      "Component 5: 0.0487\n",
      "Component 6: 0.0368\n",
      "Component 7: 0.0300\n",
      "Component 8: 0.0287\n",
      "Component 9: 0.0270\n",
      "Component 10: 0.0225\n",
      "Component 11: 0.0206\n",
      "Component 12: 0.0184\n",
      "Component 13: 0.0174\n",
      "Component 14: 0.0165\n",
      "Component 15: 0.0144\n",
      "Component 16: 0.0140\n",
      "Component 17: 0.0128\n",
      "Component 18: 0.0119\n",
      "Component 19: 0.0113\n",
      "Component 20: 0.0109\n",
      "Component 21: 0.0101\n",
      "Component 22: 0.0095\n",
      "Component 23: 0.0078\n",
      "Component 24: 0.0072\n",
      "Component 25: 0.0070\n",
      "Component 26: 0.0062\n",
      "Component 27: 0.0058\n",
      "Component 28: 0.0052\n",
      "Component 29: 0.0049\n",
      "Component 30: 0.0043\n",
      "Component 31: 0.0041\n",
      "Component 32: 0.0034\n",
      "Component 33: 0.0023\n",
      "Component 34: 0.0000\n",
      "\n",
      "\n",
      "Cumulative Variance:\n",
      "Component 1: 0.3134\n",
      "Component 2: 0.4362\n",
      "Component 3: 0.5109\n",
      "Component 4: 0.5803\n",
      "Component 5: 0.6290\n",
      "Component 6: 0.6658\n",
      "Component 7: 0.6958\n",
      "Component 8: 0.7246\n",
      "Component 9: 0.7516\n",
      "Component 10: 0.7741\n",
      "Component 11: 0.7948\n",
      "Component 12: 0.8131\n",
      "Component 13: 0.8306\n",
      "Component 14: 0.8470\n",
      "Component 15: 0.8615\n",
      "Component 16: 0.8754\n",
      "Component 17: 0.8883\n",
      "Component 18: 0.9001\n",
      "Component 19: 0.9114\n",
      "Component 20: 0.9223\n",
      "Component 21: 0.9324\n",
      "Component 22: 0.9419\n",
      "Component 23: 0.9497\n",
      "Component 24: 0.9570\n",
      "Component 25: 0.9639\n",
      "Component 26: 0.9701\n",
      "Component 27: 0.9759\n",
      "Component 28: 0.9811\n",
      "Component 29: 0.9860\n",
      "Component 30: 0.9903\n",
      "Component 31: 0.9943\n",
      "Component 32: 0.9977\n",
      "Component 33: 1.0000\n",
      "Component 34: 1.0000\n"
     ]
    }
   ],
   "source": [
    "ExplainedVariance = pca.explained_variance_ratio_\n",
    "CumulativeVariance = np.cumsum(ExplainedVariance)\n",
    "for i, var in enumerate(ExplainedVariance, 1):\n",
    "    print(f\"Component {i}: {var:.4f}\")\n",
    "print(\"\\n\")\n",
    "print(\"Cumulative Variance:\")\n",
    "for i, cum_var in enumerate(CumulativeVariance, 1):\n",
    "    print(f\"Component {i}: {cum_var:.4f}\")"
   ]
  },
  {
   "cell_type": "markdown",
   "id": "09630ae4-b80e-4977-a092-97acec0a81c5",
   "metadata": {},
   "source": [
    "# Scree Plot"
   ]
  },
  {
   "cell_type": "code",
   "execution_count": 20,
   "id": "be7f4d12-b76d-4e74-a239-4b02effd12f0",
   "metadata": {},
   "outputs": [
    {
     "data": {
      "image/png": "[encoded data removed]",
      "text/plain": [
       "<Figure size 1000x600 with 1 Axes>"
      ]
     },
     "metadata": {},
     "output_type": "display_data"
    }
   ],
   "source": [
    "plt.figure(figsize=(10, 6))\n",
    "plt.plot(range(1, len(ExplainedVariance) + 1), ExplainedVariance, marker='o')\n",
    "plt.title('Scree Plot')\n",
    "plt.xlabel('Principal Component')\n",
    "plt.ylabel('Variance Explained')\n",
    "plt.show()"
   ]
  },
  {
   "cell_type": "markdown",
   "id": "c07247cc-b698-4077-9eed-20ac45eb5f29",
   "metadata": {},
   "source": [
    "#### انتخاب مولفه‌ها برای حفظ 70% تا 90% واریانس"
   ]
  },
  {
   "cell_type": "code",
   "execution_count": 21,
   "id": "79671c84-8859-4d37-8821-f4c67673d529",
   "metadata": {},
   "outputs": [
    {
     "name": "stdout",
     "output_type": "stream",
     "text": [
      "Number of components for 70.0% variance: 8\n"
     ]
    }
   ],
   "source": [
    "OptimalComponents = np.argmax(CumulativeVariance >= 0.7) + 1\n",
    "print(f\"Number of components for {0.7*100}% variance: {OptimalComponents}\")"
   ]
  },
  {
   "cell_type": "markdown",
   "id": "74d412f2-fa45-4944-baec-55c39eb5f8b3",
   "metadata": {},
   "source": [
    "##### تبدیل برچسب‌ها به مقادیر عددی"
   ]
  },
  {
   "cell_type": "code",
   "execution_count": 22,
   "id": "42f84ddf-8179-4d01-a655-98d59808279e",
   "metadata": {},
   "outputs": [],
   "source": [
    "y_numeric = []\n",
    "for i in range(0,351):\n",
    "    if y.values[i][0] == 'g':\n",
    "        y_numeric.append(1)\n",
    "    elif y.values[i][0] == 'b':\n",
    "        y_numeric.append(0)"
   ]
  },
  {
   "cell_type": "markdown",
   "id": "2d058a82-50a2-4dc4-8e81-01ac5ec400da",
   "metadata": {},
   "source": [
    "# LDA"
   ]
  },
  {
   "cell_type": "code",
   "execution_count": 23,
   "id": "e4cae91a-988e-4717-9a1a-c5fe28591d44",
   "metadata": {},
   "outputs": [
    {
     "name": "stdout",
     "output_type": "stream",
     "text": [
      "\n",
      "LDA Explained Variance Ratio: [1.]\n",
      "Transformed LDA shape: (351, 1)\n"
     ]
    }
   ],
   "source": [
    "lda = LDA(n_components=1)  # حداکثر ابعاد ممکن = تعداد کلاس‌ها - 1\n",
    "X_lda = lda.fit_transform(X, y_numeric)\n",
    "print(f\"\\nLDA Explained Variance Ratio: {lda.explained_variance_ratio_}\")\n",
    "print(f\"Transformed LDA shape: {X_lda.shape}\")"
   ]
  },
  {
   "cell_type": "markdown",
   "id": "2f13c565-68e1-492c-b75e-45c2929bbce6",
   "metadata": {},
   "source": [
    "#### تابع برای اجرای K-means و محاسبه Silhouette Score\n"
   ]
  },
  {
   "cell_type": "code",
   "execution_count": 24,
   "id": "bd06484d-2954-4a8a-aceb-5218fe17ed61",
   "metadata": {},
   "outputs": [],
   "source": [
    "def kmeans_clustering(X_reduced, k_values):\n",
    "    results = {}\n",
    "    for k in k_values:\n",
    "        kmeans = KMeans(n_clusters=k, random_state=42, n_init=10, max_iter=300)\n",
    "        labels = kmeans.fit_predict(X_reduced)\n",
    "        score = silhouette_score(X_reduced, labels)\n",
    "        results[k] = score\n",
    "        print(f\"K={k}: Silhouette Score={score:.4f}\")\n",
    "    return results"
   ]
  },
  {
   "cell_type": "markdown",
   "id": "16e28368-80bc-462f-987b-69b8e37548ad",
   "metadata": {},
   "source": [
    "#### خوشه‌بندی روی داده‌های PCA کاهش‌یافته\n"
   ]
  },
  {
   "cell_type": "code",
   "execution_count": 25,
   "id": "577f72ac-3f84-4d85-8f3c-0f0c963ea619",
   "metadata": {},
   "outputs": [
    {
     "name": "stdout",
     "output_type": "stream",
     "text": [
      "K-means clustering on PCA-reduced data:\n",
      "K=2: Silhouette Score=0.3602\n",
      "K=3: Silhouette Score=0.3466\n",
      "K=4: Silhouette Score=0.3694\n",
      "K=5: Silhouette Score=0.3399\n",
      "K=6: Silhouette Score=0.3111\n"
     ]
    }
   ],
   "source": [
    "print(\"K-means clustering on PCA-reduced data:\")\n",
    "k_values = [2, 3, 4, 5, 6]\n",
    "pca_results = kmeans_clustering(X_pca[:, :OptimalComponents], k_values)"
   ]
  },
  {
   "cell_type": "markdown",
   "id": "32c69da7-e8fc-46b2-8d5d-06921f5216d1",
   "metadata": {},
   "source": [
    "#### خوشه‌بندی روی داده‌های LDA کاهش‌یافته\n"
   ]
  },
  {
   "cell_type": "code",
   "execution_count": 26,
   "id": "4ca01a70-7167-4653-b0d2-052255774d51",
   "metadata": {},
   "outputs": [
    {
     "name": "stdout",
     "output_type": "stream",
     "text": [
      "\n",
      "K-means clustering on LDA-reduced data:\n",
      "K=2: Silhouette Score=0.6986\n",
      "K=3: Silhouette Score=0.6283\n",
      "K=4: Silhouette Score=0.6038\n",
      "K=5: Silhouette Score=0.5945\n",
      "K=6: Silhouette Score=0.5780\n"
     ]
    }
   ],
   "source": [
    "print(\"\\nK-means clustering on LDA-reduced data:\")\n",
    "lda_results = kmeans_clustering(X_lda, k_values)"
   ]
  },
  {
   "cell_type": "markdown",
   "id": "bf879e71-9e0b-4e08-9e36-af605ae344bc",
   "metadata": {},
   "source": [
    "# تابع برای رسم Dendrogram Plot"
   ]
  },
  {
   "cell_type": "code",
   "execution_count": 27,
   "id": "5fe565b2-1eba-4d4e-8b41-97ccb41dbbfc",
   "metadata": {},
   "outputs": [],
   "source": [
    "def plot_dendrogram(X_reduced, method='ward'):\n",
    "    plt.figure(figsize=(12, 8))\n",
    "    linked = linkage(X_reduced, method=method)\n",
    "    dendrogram(linked, truncate_mode='level', p=5)  # محدودیت نمایش تا 5 سطح\n",
    "    plt.title(\"Dendrogram\")\n",
    "    plt.xlabel(\"Sample Index\")\n",
    "    plt.ylabel(\"Distance\")\n",
    "    plt.grid(True)\n",
    "    plt.show()"
   ]
  },
  {
   "cell_type": "markdown",
   "id": "7ad9a9a5-4288-4430-b67e-afe80ea56eb3",
   "metadata": {},
   "source": [
    "#### رسم Dendrogram برای PCA و LDA"
   ]
  },
  {
   "cell_type": "code",
   "execution_count": 28,
   "id": "272868dd-316b-476e-8962-6a766032bb9e",
   "metadata": {},
   "outputs": [
    {
     "name": "stdout",
     "output_type": "stream",
     "text": [
      "\n",
      "Dendrogram for PCA-reduced data:\n"
     ]
    },
    {
     "data": {
      "image/png": "[encoded data removed]",
      "text/plain": [
       "<Figure size 1200x800 with 1 Axes>"
      ]
     },
     "metadata": {},
     "output_type": "display_data"
    },
    {
     "name": "stdout",
     "output_type": "stream",
     "text": [
      "\n",
      "Dendrogram for LDA-reduced data:\n"
     ]
    },
    {
     "data": {
      "image/png": "[encoded data removed]",
      "text/plain": [
       "<Figure size 1200x800 with 1 Axes>"
      ]
     },
     "metadata": {},
     "output_type": "display_data"
    }
   ],
   "source": [
    "print(\"\\nDendrogram for PCA-reduced data:\")\n",
    "plot_dendrogram(X_pca[:, :OptimalComponents])\n",
    "\n",
    "print(\"\\nDendrogram for LDA-reduced data:\")\n",
    "plot_dendrogram(X_lda)"
   ]
  },
  {
   "cell_type": "markdown",
   "id": "492b5a3f-675c-4606-a99f-c98be7186ed0",
   "metadata": {},
   "source": [
    "#### اجرای خوشه‌بندی سلسله‌ مراتبی برای داده های کاهش بعد داده شده قبلی"
   ]
  },
  {
   "cell_type": "code",
   "execution_count": 30,
   "id": "79682b8d-3475-4624-a9ee-ba95ce63f095",
   "metadata": {},
   "outputs": [
    {
     "name": "stdout",
     "output_type": "stream",
     "text": [
      "\n",
      "Hierarchical clustering on PCA-reduced data:\n",
      "K=2: Silhouette Score=0.3422\n",
      "K=3: Silhouette Score=0.3353\n",
      "K=4: Silhouette Score=0.3486\n",
      "K=5: Silhouette Score=0.2376\n",
      "K=6: Silhouette Score=0.2335\n",
      "\n",
      "Hierarchical clustering on LDA-reduced data:\n",
      "K=2: Silhouette Score=0.6990\n",
      "K=3: Silhouette Score=0.5515\n",
      "K=4: Silhouette Score=0.5720\n",
      "K=5: Silhouette Score=0.5339\n",
      "K=6: Silhouette Score=0.5285\n"
     ]
    }
   ],
   "source": [
    "def hierarchical_clustering(X_reduced, k_values):\n",
    "    results = {}\n",
    "    for k in k_values:\n",
    "        clustering = AgglomerativeClustering(n_clusters=k, linkage='ward')\n",
    "        labels = clustering.fit_predict(X_reduced)\n",
    "        score = silhouette_score(X_reduced, labels)\n",
    "        results[k] = score\n",
    "        print(f\"K={k}: Silhouette Score={score:.4f}\")\n",
    "    return results\n",
    "print(\"\\nHierarchical clustering on PCA-reduced data:\")\n",
    "hierarchical_pca = hierarchical_clustering(X_pca[:, :OptimalComponents], k_values)\n",
    "\n",
    "print(\"\\nHierarchical clustering on LDA-reduced data:\")\n",
    "hierarchical_lda = hierarchical_clustering(X_lda, k_values)"
   ]
  },
  {
   "cell_type": "markdown",
   "id": "93461ce9-e659-47af-b634-1ca1e8540ac1",
   "metadata": {},
   "source": [
    "#### ذخیره نتایج در جدول و مقایسه"
   ]
  },
  {
   "cell_type": "code",
   "execution_count": 31,
   "id": "faae992a-5e01-43ac-bac3-54f0272c6494",
   "metadata": {},
   "outputs": [
    {
     "name": "stdout",
     "output_type": "stream",
     "text": [
      "Comparison of Clustering Results:\n",
      "   K-Means (PCA)  K-Means (LDA)  Hierarchical (PCA)  Hierarchical (LDA)\n",
      "2       0.360234       0.698585            0.342243            0.699000\n",
      "3       0.346621       0.628273            0.335262            0.551503\n",
      "4       0.369350       0.603813            0.348580            0.572041\n",
      "5       0.339922       0.594471            0.237556            0.533854\n",
      "6       0.311094       0.578031            0.233537            0.528457\n"
     ]
    }
   ],
   "source": [
    "comparison_df = pd.DataFrame({\n",
    "    \"K-Means (PCA)\": pca_results,\n",
    "    \"K-Means (LDA)\": lda_results,\n",
    "    \"Hierarchical (PCA)\": hierarchical_pca,\n",
    "    \"Hierarchical (LDA)\": hierarchical_lda\n",
    "})\n",
    "print(\"Comparison of Clustering Results:\")\n",
    "print(comparison_df)"
   ]
  },
  {
   "cell_type": "markdown",
   "id": "352e76d6-08f1-4b11-be68-b6d5b79bde18",
   "metadata": {},
   "source": [
    "#### بهترین نتیجه برای هر روش"
   ]
  },
  {
   "cell_type": "code",
   "execution_count": 32,
   "id": "8a345cf3-f38f-4332-8a38-ce334aef161b",
   "metadata": {},
   "outputs": [
    {
     "name": "stdout",
     "output_type": "stream",
     "text": [
      "Best clustering method for each K:\n",
      "2    Hierarchical (LDA)\n",
      "3         K-Means (LDA)\n",
      "4         K-Means (LDA)\n",
      "5         K-Means (LDA)\n",
      "6         K-Means (LDA)\n",
      "dtype: object\n"
     ]
    }
   ],
   "source": [
    "best_method = comparison_df.idxmax(axis=1)\n",
    "print(\"Best clustering method for each K:\")\n",
    "print(best_method)"
   ]
  }
 ],
 "metadata": {
  "kernelspec": {
   "display_name": "Python 3 (ipykernel)",
   "language": "python",
   "name": "python3"
  },
  "language_info": {
   "codemirror_mode": {
    "name": "ipython",
    "version": 3
   },
   "file_extension": ".py",
   "mimetype": "text/x-python",
   "name": "python",
   "nbconvert_exporter": "python",
   "pygments_lexer": "ipython3",
   "version": "3.12.5"
  }
 },
 "nbformat": 4,
 "nbformat_minor": 5
}
